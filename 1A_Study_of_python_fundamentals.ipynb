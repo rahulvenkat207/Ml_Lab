{
  "nbformat": 4,
  "nbformat_minor": 0,
  "metadata": {
    "colab": {
      "provenance": [],
      "authorship_tag": "ABX9TyPlw0ch92rPy0+dIKPFu9q3",
      "include_colab_link": true
    },
    "kernelspec": {
      "name": "python3",
      "display_name": "Python 3"
    },
    "language_info": {
      "name": "python"
    }
  },
  "cells": [
    {
      "cell_type": "markdown",
      "metadata": {
        "id": "view-in-github",
        "colab_type": "text"
      },
      "source": [
        "<a href=\"https://colab.research.google.com/github/rahulvenkat207/Ml_Lab/blob/main/1A_Study_of_python_fundamentals.ipynb\" target=\"_parent\"><img src=\"https://colab.research.google.com/assets/colab-badge.svg\" alt=\"Open In Colab\"/></a>"
      ]
    },
    {
      "cell_type": "markdown",
      "source": [
        "# Dictionaries"
      ],
      "metadata": {
        "id": "XNKoj0hsX2Ru"
      }
    },
    {
      "cell_type": "code",
      "source": [
        "student = {\n",
        "    \"name\" : \"Rahul\",\n",
        "    \"age\" : \"19\",\n",
        "    \"courses\":[\"Tamil\",\"English\"]\n",
        "}\n",
        "\n",
        "print(student[\"name\"])\n"
      ],
      "metadata": {
        "colab": {
          "base_uri": "https://localhost:8080/"
        },
        "id": "5Dg1YPjBX42h",
        "outputId": "ea8c1e32-b4ca-45a3-e340-aad8592c792b"
      },
      "execution_count": 8,
      "outputs": [
        {
          "output_type": "stream",
          "name": "stdout",
          "text": [
            "Rahul\n"
          ]
        }
      ]
    },
    {
      "cell_type": "code",
      "source": [
        "student[\"grage\"] = \"A\"\n",
        "student[\"age\"] = 22\n",
        "\n",
        "for key,value in student.items():\n",
        "  print(f\"{key}:{value}\")"
      ],
      "metadata": {
        "colab": {
          "base_uri": "https://localhost:8080/"
        },
        "id": "jfw3Nck7YYp8",
        "outputId": "f334aed7-8d3c-47df-a677-bc68a6de7726"
      },
      "execution_count": 9,
      "outputs": [
        {
          "output_type": "stream",
          "name": "stdout",
          "text": [
            "name:Rahul\n",
            "age:22\n",
            "courses:['Tamil', 'English']\n",
            "grage:A\n"
          ]
        }
      ]
    },
    {
      "cell_type": "markdown",
      "source": [
        "#Tuples"
      ],
      "metadata": {
        "id": "_BHrcfj-ZGjw"
      }
    },
    {
      "cell_type": "code",
      "source": [
        "num = (1,2,3)\n",
        "print(num[0])"
      ],
      "metadata": {
        "colab": {
          "base_uri": "https://localhost:8080/"
        },
        "id": "GvE_m6UjYrmv",
        "outputId": "2cb19b1a-1383-49a0-9ade-d73e8a4aefed"
      },
      "execution_count": 10,
      "outputs": [
        {
          "output_type": "stream",
          "name": "stdout",
          "text": [
            "1\n"
          ]
        }
      ]
    },
    {
      "cell_type": "code",
      "source": [
        "for value in num:\n",
        "  print(value)"
      ],
      "metadata": {
        "colab": {
          "base_uri": "https://localhost:8080/"
        },
        "id": "kDzupzdeZNHY",
        "outputId": "a830ee28-f823-4ded-9904-a5305ada1b24"
      },
      "execution_count": 11,
      "outputs": [
        {
          "output_type": "stream",
          "name": "stdout",
          "text": [
            "1\n",
            "2\n",
            "3\n"
          ]
        }
      ]
    },
    {
      "cell_type": "markdown",
      "source": [
        "# Functions"
      ],
      "metadata": {
        "id": "NqpHJNKSZZ52"
      }
    },
    {
      "cell_type": "code",
      "source": [
        "def area(X):\n",
        "  square = X*X\n",
        "  return square\n",
        "\n",
        "print(area(5))"
      ],
      "metadata": {
        "colab": {
          "base_uri": "https://localhost:8080/"
        },
        "id": "j7_IavQ_ZSSH",
        "outputId": "b0bdb614-03be-4e68-9e44-637af5b0f66c"
      },
      "execution_count": 12,
      "outputs": [
        {
          "output_type": "stream",
          "name": "stdout",
          "text": [
            "25\n"
          ]
        }
      ]
    },
    {
      "cell_type": "code",
      "source": [
        "def greet(X):\n",
        "  print(f\"Hello {X}\")\n",
        "\n",
        "greet(\"Rahul\")"
      ],
      "metadata": {
        "colab": {
          "base_uri": "https://localhost:8080/"
        },
        "id": "zO2Vd2XmZhiO",
        "outputId": "6d09b047-5cc0-41c2-ae68-d065796a06cd"
      },
      "execution_count": 13,
      "outputs": [
        {
          "output_type": "stream",
          "name": "stdout",
          "text": [
            "Hello Rahul\n"
          ]
        }
      ]
    },
    {
      "cell_type": "markdown",
      "source": [
        "# Looping"
      ],
      "metadata": {
        "id": "xAk0ab2zZokq"
      }
    },
    {
      "cell_type": "code",
      "source": [
        "names = [\"Rahul\",\"Ranesh\",\"Ranjith\"]\n",
        "\n",
        "for i in names:\n",
        "  print(i)"
      ],
      "metadata": {
        "colab": {
          "base_uri": "https://localhost:8080/"
        },
        "id": "R-te7buYZlxd",
        "outputId": "81a1cbd0-1466-439d-e14c-2b691245a953"
      },
      "execution_count": 14,
      "outputs": [
        {
          "output_type": "stream",
          "name": "stdout",
          "text": [
            "Rahul\n",
            "Ranesh\n",
            "Ranjith\n"
          ]
        }
      ]
    },
    {
      "cell_type": "code",
      "source": [
        "sum = 0\n",
        "i = 0\n",
        "while i < 5:\n",
        "  sum = sum + i\n",
        "  i = i + 1\n",
        "print(sum)"
      ],
      "metadata": {
        "colab": {
          "base_uri": "https://localhost:8080/"
        },
        "id": "0WTaU6xXaGVJ",
        "outputId": "55e59649-7557-47dd-c8eb-370955c96781"
      },
      "execution_count": 16,
      "outputs": [
        {
          "output_type": "stream",
          "name": "stdout",
          "text": [
            "10\n"
          ]
        }
      ]
    },
    {
      "cell_type": "code",
      "source": [],
      "metadata": {
        "id": "zdTlJNNZaMeN"
      },
      "execution_count": null,
      "outputs": []
    }
  ]
}