{
  "nbformat": 4,
  "nbformat_minor": 0,
  "metadata": {
    "colab": {
      "provenance": [],
      "authorship_tag": "ABX9TyPUepvMGaq9A5wOiLShL/n6",
      "include_colab_link": true
    },
    "kernelspec": {
      "name": "python3",
      "display_name": "Python 3"
    },
    "language_info": {
      "name": "python"
    }
  },
  "cells": [
    {
      "cell_type": "markdown",
      "metadata": {
        "id": "view-in-github",
        "colab_type": "text"
      },
      "source": [
        "<a href=\"https://colab.research.google.com/github/rahulvenkat207/Ml_Lab/blob/main/1b_Study_of_oops%2Cgenerators.ipynb\" target=\"_parent\"><img src=\"https://colab.research.google.com/assets/colab-badge.svg\" alt=\"Open In Colab\"/></a>"
      ]
    },
    {
      "cell_type": "code",
      "execution_count": 1,
      "metadata": {
        "id": "4CTt59pWav-t"
      },
      "outputs": [],
      "source": [
        "# Object Oriented Programming"
      ]
    },
    {
      "cell_type": "code",
      "source": [
        "class Animal:\n",
        "  def __init__(self,name):\n",
        "    self.name = name\n",
        "\n",
        "  def speak(self):\n",
        "    return \"Hi\"\n",
        "\n",
        "class Dog(Animal):\n",
        "  def speak(self):\n",
        "    return self.name + 'Says Who whoo'\n",
        "  def color(self):\n",
        "    return self.name + ' is white'\n",
        "\n",
        "class cat(Animal):\n",
        "  def speak(self):\n",
        "    return self.name + ' Says Meow'\n",
        "\n",
        "  def color(self):\n",
        "    return self.name + 'is brown'\n",
        "\n",
        "  def eats(self):\n",
        "    return self.name + ' eats fish'"
      ],
      "metadata": {
        "id": "MC2scAHLa4no"
      },
      "execution_count": 32,
      "outputs": []
    },
    {
      "cell_type": "code",
      "source": [
        "animal = Animal(\"Rahul\")\n",
        "animal.speak()\n",
        "\n",
        "\n"
      ],
      "metadata": {
        "colab": {
          "base_uri": "https://localhost:8080/",
          "height": 35
        },
        "id": "cnzckQULbYLL",
        "outputId": "1a8135cf-0f84-4de5-ce7f-00f8b368acb0"
      },
      "execution_count": 33,
      "outputs": [
        {
          "output_type": "execute_result",
          "data": {
            "text/plain": [
              "'Hi'"
            ],
            "application/vnd.google.colaboratory.intrinsic+json": {
              "type": "string"
            }
          },
          "metadata": {},
          "execution_count": 33
        }
      ]
    },
    {
      "cell_type": "code",
      "source": [
        "dog = Dog(\"Tommy\")\n",
        "dog.speak()\n",
        "dog.color()"
      ],
      "metadata": {
        "colab": {
          "base_uri": "https://localhost:8080/",
          "height": 35
        },
        "id": "QEhomT0McbUC",
        "outputId": "fdb360b3-d62d-40df-a8a2-d6cb9f06399d"
      },
      "execution_count": 34,
      "outputs": [
        {
          "output_type": "execute_result",
          "data": {
            "text/plain": [
              "'Tommy is white'"
            ],
            "application/vnd.google.colaboratory.intrinsic+json": {
              "type": "string"
            }
          },
          "metadata": {},
          "execution_count": 34
        }
      ]
    },
    {
      "cell_type": "code",
      "source": [
        "cat = cat(\"Raki\")\n",
        "print(cat.speak())\n",
        "print(cat.eats())"
      ],
      "metadata": {
        "colab": {
          "base_uri": "https://localhost:8080/"
        },
        "id": "JTO0zxMIcrB6",
        "outputId": "5b06c3b8-c925-4fb0-bc4e-d914a6701325"
      },
      "execution_count": 35,
      "outputs": [
        {
          "output_type": "stream",
          "name": "stdout",
          "text": [
            "Raki Says Meow\n",
            "Raki eats fish\n"
          ]
        }
      ]
    },
    {
      "cell_type": "markdown",
      "source": [
        "# Generator"
      ],
      "metadata": {
        "id": "HoDEJ8AAeNcf"
      }
    },
    {
      "cell_type": "code",
      "source": [
        "def gen():\n",
        "  yield 1\n",
        "  yield 2\n",
        "  yield 3\n",
        "\n",
        "for i in gen():\n",
        "    print(i)"
      ],
      "metadata": {
        "colab": {
          "base_uri": "https://localhost:8080/"
        },
        "id": "S6ibYIlBc22J",
        "outputId": "4ca0d112-f25d-4db5-98fa-1095e9efcd1a"
      },
      "execution_count": 40,
      "outputs": [
        {
          "output_type": "stream",
          "name": "stdout",
          "text": [
            "1\n",
            "2\n",
            "3\n"
          ]
        }
      ]
    },
    {
      "cell_type": "code",
      "source": [
        "y = (x*x for x in range(1,6) )\n",
        "\n",
        "for i in y:\n",
        "  print(i)"
      ],
      "metadata": {
        "colab": {
          "base_uri": "https://localhost:8080/"
        },
        "id": "j6hgQdAnenS9",
        "outputId": "61a97e29-8c6c-4250-af35-3ea67ad5b66a"
      },
      "execution_count": 42,
      "outputs": [
        {
          "output_type": "stream",
          "name": "stdout",
          "text": [
            "1\n",
            "4\n",
            "9\n",
            "16\n",
            "25\n"
          ]
        }
      ]
    },
    {
      "cell_type": "code",
      "source": [
        "# File IO\n",
        "with open(\"/content/source_code.txt\",\"r\") as file:\n",
        "  content = file.read()\n",
        "  print(content)\n"
      ],
      "metadata": {
        "colab": {
          "base_uri": "https://localhost:8080/"
        },
        "id": "xAVO6jhUfOHW",
        "outputId": "3d585244-7985-4902-f269-e72f3e40137f"
      },
      "execution_count": 43,
      "outputs": [
        {
          "output_type": "stream",
          "name": "stdout",
          "text": [
            "int a = 5;\n",
            "float b = 3.14;\n",
            "if (a < b) {\n",
            "    a = a + 1;\n",
            "}\n",
            "return 0;\n",
            "\n"
          ]
        }
      ]
    },
    {
      "cell_type": "code",
      "source": [
        "# Regular expressions"
      ],
      "metadata": {
        "id": "3tqwIR-Cg1Pi"
      },
      "execution_count": 44,
      "outputs": []
    },
    {
      "cell_type": "code",
      "source": [
        "import re"
      ],
      "metadata": {
        "id": "xr2pIFuEg9Hw"
      },
      "execution_count": 45,
      "outputs": []
    },
    {
      "cell_type": "code",
      "source": [
        "import re\n",
        "\n",
        "txt = \"The rain in Spain\"\n",
        "x = re.search(\"^The.*Spain$\", txt)"
      ],
      "metadata": {
        "id": "J8TMyEoFh0Qc"
      },
      "execution_count": 46,
      "outputs": []
    },
    {
      "cell_type": "code",
      "source": [
        "print(x)"
      ],
      "metadata": {
        "colab": {
          "base_uri": "https://localhost:8080/"
        },
        "id": "lczPxJd0h5jm",
        "outputId": "7b73b5c0-16da-4cfc-a861-45c0c35acff5"
      },
      "execution_count": 48,
      "outputs": [
        {
          "output_type": "stream",
          "name": "stdout",
          "text": [
            "<re.Match object; span=(0, 17), match='The rain in Spain'>\n"
          ]
        }
      ]
    },
    {
      "cell_type": "code",
      "source": [
        "import re\n",
        "\n",
        "txt = \"The rain in Spain\"\n",
        "x = re.split(\"\\s\", txt)\n",
        "print(x)"
      ],
      "metadata": {
        "colab": {
          "base_uri": "https://localhost:8080/"
        },
        "id": "mPGBaTSUh8qt",
        "outputId": "0c09f2fa-188e-48ec-c0e7-9579e5d627ea"
      },
      "execution_count": 49,
      "outputs": [
        {
          "output_type": "stream",
          "name": "stdout",
          "text": [
            "['The', 'rain', 'in', 'Spain']\n"
          ]
        }
      ]
    },
    {
      "cell_type": "code",
      "source": [],
      "metadata": {
        "id": "Hb8OjEnMitdP"
      },
      "execution_count": null,
      "outputs": []
    }
  ]
}