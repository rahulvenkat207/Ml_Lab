{
 "cells": [
  {
   "cell_type": "code",
   "execution_count": 3,
   "metadata": {},
   "outputs": [],
   "source": [
    "import pandas as pd"
   ]
  },
  {
   "cell_type": "code",
   "execution_count": 4,
   "metadata": {},
   "outputs": [],
   "source": [
    "# Load dataset from CSV file\n",
    "file_path = \"D:\\\\MachineLab\\\\Exp-2\\\\datasetml.csv\" \n",
    "# Change this to your actual file path\n",
    "data = pd.read_csv(file_path)"
   ]
  },
  {
   "cell_type": "code",
   "execution_count": 5,
   "metadata": {},
   "outputs": [],
   "source": [
    "# Extract features and target variable\n",
    "attributes = data.columns[:-1]  # All columns except the last one\n",
    "target_column = data.columns[-1]  # The last column (target variable)"
   ]
  },
  {
   "cell_type": "code",
   "execution_count": 6,
   "metadata": {},
   "outputs": [],
   "source": [
    "# Find-S Algorithm Implementation\n",
    "def find_s_algorithm(data, attributes, target_column):\n",
    "    hypothesis = [\"∅\"] * len(attributes)  # Start with the most specific hypothesis\n",
    "    print(f\"Initial Hypothesis: {hypothesis}\\n\")\n",
    "\n",
    "    for i, row in data.iterrows():\n",
    "        if row[target_column] == \"Yes\":  # Consider only positive examples\n",
    "            if hypothesis == [\"∅\"] * len(attributes):  \n",
    "                hypothesis = row[attributes].tolist()  # First positive example\n",
    "                print(f\"After first positive example {i+1}: {hypothesis}\\n\")\n",
    "            else:\n",
    "                # Generalize hypothesis by replacing differing attributes with '?'\n",
    "                for j in range(len(attributes)):\n",
    "                    if hypothesis[j] != row[attributes[j]]:\n",
    "                        hypothesis[j] = \"?\"\n",
    "                print(f\"Updated Hypothesis after example {i+1}: {hypothesis}\\n\")\n",
    "    return hypothesis\n"
   ]
  },
  {
   "cell_type": "code",
   "execution_count": 7,
   "metadata": {},
   "outputs": [
    {
     "name": "stdout",
     "output_type": "stream",
     "text": [
      "Initial Hypothesis: ['∅', '∅', '∅', '∅', '∅', '∅']\n",
      "\n",
      "After first positive example 1: ['Sunny', 'Warm', 'Normal', 'Strong', 'Warm', 'Same']\n",
      "\n",
      "Updated Hypothesis after example 2: ['Sunny', 'Warm', '?', 'Strong', 'Warm', 'Same']\n",
      "\n",
      "Updated Hypothesis after example 4: ['Sunny', 'Warm', '?', 'Strong', '?', '?']\n",
      "\n",
      "Updated Hypothesis after example 6: ['Sunny', 'Warm', '?', '?', '?', '?']\n",
      "\n",
      "Updated Hypothesis after example 8: ['Sunny', '?', '?', '?', '?', '?']\n",
      "\n",
      "Updated Hypothesis after example 9: ['?', '?', '?', '?', '?', '?']\n",
      "\n",
      "Final Hypothesis: ['?', '?', '?', '?', '?', '?']\n"
     ]
    }
   ],
   "source": [
    "# Run Find-S Algorithm\n",
    "final_hypothesis = find_s_algorithm(data, attributes, target_column)\n",
    "\n",
    "# Print the final hypothesis\n",
    "print(\"Final Hypothesis:\", final_hypothesis)"
   ]
  },
  {
   "cell_type": "code",
   "execution_count": null,
   "metadata": {},
   "outputs": [],
   "source": []
  },
  {
   "cell_type": "code",
   "execution_count": null,
   "metadata": {},
   "outputs": [],
   "source": []
  }
 ],
 "metadata": {
  "kernelspec": {
   "display_name": "Python 3",
   "language": "python",
   "name": "python3"
  },
  "language_info": {
   "codemirror_mode": {
    "name": "ipython",
    "version": 3
   },
   "file_extension": ".py",
   "mimetype": "text/x-python",
   "name": "python",
   "nbconvert_exporter": "python",
   "pygments_lexer": "ipython3",
   "version": "3.7.3"
  }
 },
 "nbformat": 4,
 "nbformat_minor": 2
}
