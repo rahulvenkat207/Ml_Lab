{
 "cells": [
  {
   "cell_type": "code",
   "execution_count": 9,
   "metadata": {},
   "outputs": [],
   "source": [
    "import pandas as pd"
   ]
  },
  {
   "cell_type": "code",
   "execution_count": 10,
   "metadata": {},
   "outputs": [],
   "source": [
    "# Load dataset from CSV file\n",
    "file_path = \"D:\\\\MachineLab\\\\Exp-2\\\\datasetml.csv\" \n",
    "# Change this to your actual file path\n",
    "data = pd.read_csv(file_path)"
   ]
  },
  {
   "cell_type": "code",
   "execution_count": 11,
   "metadata": {},
   "outputs": [],
   "source": [
    "# Extract features and target variable\n",
    "attributes = data.columns[:-1]  # All columns except the last one\n",
    "target_column = data.columns[-1]  # The last column (target variable)"
   ]
  },
  {
   "cell_type": "code",
   "execution_count": 12,
   "metadata": {},
   "outputs": [],
   "source": [
    "# Candidate Elimination Algorithm\n",
    "def candidate_elimination(data, attributes, target_column):\n",
    "    # Initialize the most specific hypothesis (S) and most general hypothesis (G)\n",
    "    S = [\"∅\"] * len(attributes)  # Most specific hypothesis\n",
    "    G = [[\"?\"] * len(attributes)]  # Most general hypothesis set (list of lists)\n",
    "\n",
    "    print(f\"Initial Specific Hypothesis (S): {S}\")\n",
    "    print(f\"Initial General Hypothesis (G): {G}\\n\")\n",
    "\n",
    "    for i, row in data.iterrows():\n",
    "        if row[target_column] == \"Yes\":  # For positive examples\n",
    "            for j in range(len(attributes)):\n",
    "                if S[j] == \"∅\":\n",
    "                    S[j] = row[attributes[j]]  # Initialize S with the first positive example\n",
    "                elif S[j] != row[attributes[j]]:\n",
    "                    S[j] = \"?\"  # Generalize S\n",
    "            # Remove inconsistent general hypotheses\n",
    "            G = [g for g in G if all(g[j] == \"?\" or g[j] == S[j] for j in range(len(attributes)))]\n",
    "            print(f\"Updated Specific Hypothesis  {i+1}: {S}\")\n",
    "\n",
    "        elif row[target_column] == \"No\":  # For negative examples\n",
    "            new_G = []\n",
    "            for g in G:\n",
    "                for j in range(len(attributes)):\n",
    "                    if S[j] != \"?\":  # Specialize G when it contradicts a negative example\n",
    "                        new_hypothesis = g[:]\n",
    "                        new_hypothesis[j] = S[j] if S[j] != row[attributes[j]] else \"?\"\n",
    "                        if new_hypothesis not in new_G:\n",
    "                            new_G.append(new_hypothesis)\n",
    "            G = new_G  # Update G\n",
    "            print(f\"Updated General Hypothesis {i+1}: {G}\")\n",
    "\n",
    "    print(\"\\nFinal Specific Hypothesis (S):\", S)\n",
    "    print(\"Final General Hypothesis (G):\", G)\n",
    "    return S, G\n"
   ]
  },
  {
   "cell_type": "code",
   "execution_count": 13,
   "metadata": {},
   "outputs": [
    {
     "name": "stdout",
     "output_type": "stream",
     "text": [
      "Initial Specific Hypothesis (S): ['∅', '∅', '∅', '∅', '∅', '∅']\n",
      "Initial General Hypothesis (G): [['?', '?', '?', '?', '?', '?']]\n",
      "\n",
      "Updated Specific Hypothesis  1: ['Sunny', 'Warm', 'Normal', 'Strong', 'Warm', 'Same']\n",
      "Updated Specific Hypothesis  2: ['Sunny', 'Warm', '?', 'Strong', 'Warm', 'Same']\n",
      "Updated General Hypothesis 3: [['Sunny', '?', '?', '?', '?', '?'], ['?', 'Warm', '?', '?', '?', '?'], ['?', '?', '?', '?', '?', '?'], ['?', '?', '?', '?', '?', 'Same']]\n",
      "Updated Specific Hypothesis  4: ['Sunny', 'Warm', '?', 'Strong', '?', '?']\n",
      "Updated General Hypothesis 5: [['Sunny', '?', '?', '?', '?', '?'], ['Sunny', '?', '?', 'Strong', '?', '?'], ['Sunny', 'Warm', '?', '?', '?', '?'], ['?', '?', '?', '?', '?', '?'], ['?', 'Warm', '?', 'Strong', '?', '?'], ['?', '?', '?', 'Strong', '?', '?']]\n",
      "Updated Specific Hypothesis  6: ['Sunny', 'Warm', '?', '?', '?', '?']\n",
      "Updated General Hypothesis 7: [['Sunny', '?', '?', '?', '?', '?'], ['Sunny', 'Warm', '?', '?', '?', '?'], ['?', 'Warm', '?', '?', '?', '?']]\n",
      "Updated Specific Hypothesis  8: ['Sunny', '?', '?', '?', '?', '?']\n",
      "Updated Specific Hypothesis  9: ['?', '?', '?', '?', '?', '?']\n",
      "Updated General Hypothesis 10: []\n",
      "\n",
      "Final Specific Hypothesis (S): ['?', '?', '?', '?', '?', '?']\n",
      "Final General Hypothesis (G): []\n"
     ]
    }
   ],
   "source": [
    "# Run Candidate Elimination Algorithm\n",
    "final_S, final_G = candidate_elimination(data, attributes, target_column)"
   ]
  },
  {
   "cell_type": "code",
   "execution_count": null,
   "metadata": {},
   "outputs": [],
   "source": [
    "\n",
    "\n",
    "\n",
    "\n"
   ]
  },
  {
   "cell_type": "code",
   "execution_count": null,
   "metadata": {},
   "outputs": [],
   "source": []
  }
 ],
 "metadata": {
  "kernelspec": {
   "display_name": "Python 3",
   "language": "python",
   "name": "python3"
  },
  "language_info": {
   "codemirror_mode": {
    "name": "ipython",
    "version": 3
   },
   "file_extension": ".py",
   "mimetype": "text/x-python",
   "name": "python",
   "nbconvert_exporter": "python",
   "pygments_lexer": "ipython3",
   "version": "3.7.3"
  }
 },
 "nbformat": 4,
 "nbformat_minor": 2
}
